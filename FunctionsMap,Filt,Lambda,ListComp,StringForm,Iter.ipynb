{
 "cells": [
  {
   "cell_type": "markdown",
   "id": "ea6658e0",
   "metadata": {},
   "source": [
    "# Functions in Python"
   ]
  },
  {
   "cell_type": "markdown",
   "id": "ef57c3e2",
   "metadata": {},
   "source": [
    "1. Why Functions\n",
    "2. Functional Defintions \n",
    "3. Positional and Keyword Arguments in Funtions "
   ]
  },
  {
   "cell_type": "code",
   "execution_count": 1,
   "id": "c1b96a35",
   "metadata": {},
   "outputs": [],
   "source": [
    "def even_odd(num):\n",
    "    if num%2==0:\n",
    "        return \"The number is even.\"\n",
    "    else:\n",
    "        return \"The number is odd.\""
   ]
  },
  {
   "cell_type": "code",
   "execution_count": 2,
   "id": "6a1244d4",
   "metadata": {},
   "outputs": [
    {
     "data": {
      "text/plain": [
       "'The number is odd.'"
      ]
     },
     "execution_count": 2,
     "metadata": {},
     "output_type": "execute_result"
    }
   ],
   "source": [
    "even_odd(25)"
   ]
  },
  {
   "cell_type": "code",
   "execution_count": 3,
   "id": "b0777e30",
   "metadata": {},
   "outputs": [],
   "source": [
    "#Print vs Return \n",
    "def printing():\n",
    "    print(\"Hello World\")\n",
    "\n",
    "def returning():\n",
    "    return \"Hello World\""
   ]
  },
  {
   "cell_type": "code",
   "execution_count": 4,
   "id": "3df42468",
   "metadata": {},
   "outputs": [
    {
     "name": "stdout",
     "output_type": "stream",
     "text": [
      "Hello World\n"
     ]
    }
   ],
   "source": [
    "val1=printing()\n",
    "val2=returning()"
   ]
  },
  {
   "cell_type": "code",
   "execution_count": 5,
   "id": "5bd984e4",
   "metadata": {},
   "outputs": [],
   "source": [
    "#Print statement when assigned to a variable does not return anything but a return statement does."
   ]
  },
  {
   "cell_type": "code",
   "execution_count": 22,
   "id": "87ff6383",
   "metadata": {},
   "outputs": [],
   "source": [
    "#Here name is a postional argument and age is the keyword argument\n",
    "def hello(name,age=23):\n",
    "    print(\"My name is {} and my age is {}\".format(name,age))"
   ]
  },
  {
   "cell_type": "code",
   "execution_count": 10,
   "id": "d58c8d7d",
   "metadata": {},
   "outputs": [
    {
     "name": "stdout",
     "output_type": "stream",
     "text": [
      "My name is chetan and my age is 23\n"
     ]
    }
   ],
   "source": [
    "ola=hello(\"chetan\")"
   ]
  },
  {
   "cell_type": "code",
   "execution_count": 16,
   "id": "00f0fbdb",
   "metadata": {},
   "outputs": [
    {
     "ename": "AttributeError",
     "evalue": "'NoneType' object has no attribute 'dtype'",
     "output_type": "error",
     "traceback": [
      "\u001b[1;31m---------------------------------------------------------------------------\u001b[0m",
      "\u001b[1;31mAttributeError\u001b[0m                            Traceback (most recent call last)",
      "\u001b[1;32m<ipython-input-16-ac9f53c45f77>\u001b[0m in \u001b[0;36m<module>\u001b[1;34m\u001b[0m\n\u001b[1;32m----> 1\u001b[1;33m \u001b[0mola\u001b[0m\u001b[1;33m.\u001b[0m\u001b[0mdtype\u001b[0m\u001b[1;33m\u001b[0m\u001b[1;33m\u001b[0m\u001b[0m\n\u001b[0m",
      "\u001b[1;31mAttributeError\u001b[0m: 'NoneType' object has no attribute 'dtype'"
     ]
    }
   ],
   "source": [
    "ola"
   ]
  },
  {
   "cell_type": "code",
   "execution_count": 11,
   "id": "8191d2c9",
   "metadata": {},
   "outputs": [],
   "source": [
    "def hello1(name, age=23):\n",
    "    return \"Thy name is {} and thy age is {}\".format(name,age)"
   ]
  },
  {
   "cell_type": "code",
   "execution_count": 20,
   "id": "54ceb269",
   "metadata": {},
   "outputs": [],
   "source": [
    "ava=hello1('chetan')"
   ]
  },
  {
   "cell_type": "code",
   "execution_count": 21,
   "id": "38a4b1b5",
   "metadata": {},
   "outputs": [
    {
     "data": {
      "text/plain": [
       "'Thy name is chetan and thy age is 23'"
      ]
     },
     "execution_count": 21,
     "metadata": {},
     "output_type": "execute_result"
    }
   ],
   "source": [
    "ava"
   ]
  },
  {
   "cell_type": "code",
   "execution_count": 23,
   "id": "f606742f",
   "metadata": {},
   "outputs": [],
   "source": [
    "## args and kwargs \n",
    "def hello(*args, **kwargs):\n",
    "    print(args)\n",
    "    print(kwargs)"
   ]
  },
  {
   "cell_type": "code",
   "execution_count": 25,
   "id": "f1e2f696",
   "metadata": {},
   "outputs": [
    {
     "name": "stdout",
     "output_type": "stream",
     "text": [
      "('Chetan', 'Choudhary')\n",
      "{'dob': '18-10-1999', 'age': 21}\n"
     ]
    }
   ],
   "source": [
    "hello('Chetan','Choudhary',dob='18-10-1999',age =21)"
   ]
  },
  {
   "cell_type": "code",
   "execution_count": 29,
   "id": "abc87c92",
   "metadata": {},
   "outputs": [],
   "source": [
    "lst=['Chetan', 'Choudhary']\n",
    "kw_dict={'dob': '18-10-1999', 'age': 21}"
   ]
  },
  {
   "cell_type": "code",
   "execution_count": 32,
   "id": "2ee83228",
   "metadata": {},
   "outputs": [],
   "source": [
    "def hello(*lst,**kw_dict):\n",
    "    print(lst)\n",
    "    print(kw_dict)"
   ]
  },
  {
   "cell_type": "code",
   "execution_count": 34,
   "id": "be91cbbb",
   "metadata": {},
   "outputs": [
    {
     "name": "stdout",
     "output_type": "stream",
     "text": [
      "('Chetan', 'Choudhary')\n",
      "{'dob': '18-10-1999', 'age': 21}\n"
     ]
    }
   ],
   "source": [
    "hello(*lst,**kw_dict)"
   ]
  },
  {
   "cell_type": "code",
   "execution_count": 35,
   "id": "6bafe042",
   "metadata": {},
   "outputs": [],
   "source": [
    "lst=[1,2,3,4,5,6,7,8,9]"
   ]
  },
  {
   "cell_type": "code",
   "execution_count": 36,
   "id": "773691c5",
   "metadata": {},
   "outputs": [],
   "source": [
    "def even_odd_sum(lst):\n",
    "    even_sum=0\n",
    "    odd_sum=0\n",
    "    \n",
    "    for i in lst:\n",
    "        if i%2==0:\n",
    "            even_sum+= i\n",
    "        else:\n",
    "            odd_sum+= i \n",
    "    return even_sum,odd_sum"
   ]
  },
  {
   "cell_type": "code",
   "execution_count": 37,
   "id": "a2beb2ac",
   "metadata": {},
   "outputs": [
    {
     "data": {
      "text/plain": [
       "(20, 25)"
      ]
     },
     "execution_count": 37,
     "metadata": {},
     "output_type": "execute_result"
    }
   ],
   "source": [
    "even_odd_sum(lst)"
   ]
  },
  {
   "cell_type": "markdown",
   "id": "a4cf93a5",
   "metadata": {},
   "source": [
    "# Map functions in Python"
   ]
  },
  {
   "cell_type": "code",
   "execution_count": 38,
   "id": "c62ce53c",
   "metadata": {},
   "outputs": [],
   "source": [
    "def even_odd(num):\n",
    "    if num%2==0:\n",
    "        return \"The number {} is even.\".format(num)\n",
    "    else:\n",
    "        return \"The number {} is odd.\".format(num)"
   ]
  },
  {
   "cell_type": "code",
   "execution_count": 40,
   "id": "e21c9683",
   "metadata": {},
   "outputs": [
    {
     "data": {
      "text/plain": [
       "'The number 25 is odd.'"
      ]
     },
     "execution_count": 40,
     "metadata": {},
     "output_type": "execute_result"
    }
   ],
   "source": [
    "even_odd(25)"
   ]
  },
  {
   "cell_type": "code",
   "execution_count": 41,
   "id": "2d0aa942",
   "metadata": {},
   "outputs": [],
   "source": [
    "lst=[1,2,4,5,6,7,8,43,34,56,76]"
   ]
  },
  {
   "cell_type": "code",
   "execution_count": 44,
   "id": "e2488d69",
   "metadata": {},
   "outputs": [
    {
     "data": {
      "text/plain": [
       "['The number 1 is odd.',\n",
       " 'The number 2 is even.',\n",
       " 'The number 4 is even.',\n",
       " 'The number 5 is odd.',\n",
       " 'The number 6 is even.',\n",
       " 'The number 7 is odd.',\n",
       " 'The number 8 is even.',\n",
       " 'The number 43 is odd.',\n",
       " 'The number 34 is even.',\n",
       " 'The number 56 is even.',\n",
       " 'The number 76 is even.']"
      ]
     },
     "execution_count": 44,
     "metadata": {},
     "output_type": "execute_result"
    }
   ],
   "source": [
    "list(map(even_odd,lst))"
   ]
  },
  {
   "cell_type": "markdown",
   "id": "e3edd41e",
   "metadata": {},
   "source": [
    "# Lambda Functions\n",
    "\n",
    "Works faster than normal functions \n",
    "\n",
    "These are anonymus functions."
   ]
  },
  {
   "cell_type": "code",
   "execution_count": 48,
   "id": "7ff719f1",
   "metadata": {},
   "outputs": [],
   "source": [
    "#def addition(a,b):\n",
    "#    return a+b\n",
    "#addition(5,6)"
   ]
  },
  {
   "cell_type": "code",
   "execution_count": 49,
   "id": "72dc3fda",
   "metadata": {},
   "outputs": [],
   "source": [
    "addition = lambda a,b:a+b"
   ]
  },
  {
   "cell_type": "code",
   "execution_count": 50,
   "id": "80b8fb80",
   "metadata": {},
   "outputs": [
    {
     "data": {
      "text/plain": [
       "24"
      ]
     },
     "execution_count": 50,
     "metadata": {},
     "output_type": "execute_result"
    }
   ],
   "source": [
    "addition(12,12)"
   ]
  },
  {
   "cell_type": "code",
   "execution_count": 51,
   "id": "f706bfcd",
   "metadata": {},
   "outputs": [
    {
     "data": {
      "text/plain": [
       "False"
      ]
     },
     "execution_count": 51,
     "metadata": {},
     "output_type": "execute_result"
    }
   ],
   "source": [
    "even = lambda a:a%2==0\n",
    "even(29)"
   ]
  },
  {
   "cell_type": "code",
   "execution_count": 58,
   "id": "3eab6ab0",
   "metadata": {},
   "outputs": [
    {
     "data": {
      "text/plain": [
       "12"
      ]
     },
     "execution_count": 58,
     "metadata": {},
     "output_type": "execute_result"
    }
   ],
   "source": [
    "addi = lambda x,y,z : x+y+z\n",
    "addi(4,5,3)"
   ]
  },
  {
   "cell_type": "markdown",
   "id": "83d187af",
   "metadata": {},
   "source": [
    "# Filter functions  "
   ]
  },
  {
   "cell_type": "code",
   "execution_count": 59,
   "id": "baed67aa",
   "metadata": {},
   "outputs": [],
   "source": [
    "def even_num(num):\n",
    "    if num%2==0:\n",
    "        return True"
   ]
  },
  {
   "cell_type": "code",
   "execution_count": 60,
   "id": "e15c31df",
   "metadata": {},
   "outputs": [],
   "source": [
    "lst=[1,2,3,4,5,6,7,8,9]"
   ]
  },
  {
   "cell_type": "code",
   "execution_count": 61,
   "id": "06b0f012",
   "metadata": {},
   "outputs": [
    {
     "data": {
      "text/plain": [
       "[2, 4, 6, 8]"
      ]
     },
     "execution_count": 61,
     "metadata": {},
     "output_type": "execute_result"
    }
   ],
   "source": [
    "list(filter(even_num,lst))"
   ]
  },
  {
   "cell_type": "code",
   "execution_count": 65,
   "id": "7cfdc90e",
   "metadata": {},
   "outputs": [
    {
     "data": {
      "text/plain": [
       "[2, 4, 6, 8]"
      ]
     },
     "execution_count": 65,
     "metadata": {},
     "output_type": "execute_result"
    }
   ],
   "source": [
    "list(filter(lambda num:num%2==0,lst))"
   ]
  },
  {
   "cell_type": "code",
   "execution_count": 64,
   "id": "eaa3d009",
   "metadata": {},
   "outputs": [
    {
     "data": {
      "text/plain": [
       "[False, True, False, True, False, True, False, True, False]"
      ]
     },
     "execution_count": 64,
     "metadata": {},
     "output_type": "execute_result"
    }
   ],
   "source": [
    "list(map(lambda num:num%2==0,lst))"
   ]
  },
  {
   "cell_type": "markdown",
   "id": "b9679444",
   "metadata": {},
   "source": [
    "# List Comprehensions "
   ]
  },
  {
   "cell_type": "markdown",
   "id": "f8d234b0",
   "metadata": {},
   "source": [
    "These provide a concise way to create lists."
   ]
  },
  {
   "cell_type": "code",
   "execution_count": 67,
   "id": "ed7b2a5d",
   "metadata": {},
   "outputs": [],
   "source": [
    "lst1=[]\n",
    "def lst_square(lst):\n",
    "    for i in lst:\n",
    "        lst1.append(i*i)\n",
    "    return lst1"
   ]
  },
  {
   "cell_type": "code",
   "execution_count": 68,
   "id": "6ef5f08a",
   "metadata": {},
   "outputs": [
    {
     "data": {
      "text/plain": [
       "[1, 4, 9, 16, 25, 36, 49]"
      ]
     },
     "execution_count": 68,
     "metadata": {},
     "output_type": "execute_result"
    }
   ],
   "source": [
    "lst_square([1,2,3,4,5,6,7])"
   ]
  },
  {
   "cell_type": "code",
   "execution_count": 86,
   "id": "8a6e7c6b",
   "metadata": {},
   "outputs": [],
   "source": [
    "ls1 = [i*i for i in lst if i%2!=0]"
   ]
  },
  {
   "cell_type": "code",
   "execution_count": 87,
   "id": "b4cf22a6",
   "metadata": {},
   "outputs": [
    {
     "name": "stdout",
     "output_type": "stream",
     "text": [
      "[25, 49, 81]\n"
     ]
    }
   ],
   "source": [
    "lst=[5,6,7,8,9,10]\n",
    "print(ls1)"
   ]
  },
  {
   "cell_type": "markdown",
   "id": "c6aa2d05",
   "metadata": {},
   "source": [
    "# String Formatting"
   ]
  },
  {
   "cell_type": "code",
   "execution_count": 88,
   "id": "1f3f07ac",
   "metadata": {},
   "outputs": [],
   "source": [
    "def greetings(name,age):\n",
    "    return \"Hello {}, Your age is {}.\".format(age,name)\n",
    "\n",
    "# In the above function the placeholders are postion dependent but we can also use temporary variables \n",
    "# to make the placeholders postion independant\n",
    "\n",
    "def greetings1(name,age):\n",
    "    return \"Hello {name1}, Your age is {age1}.\".format(age1=age, name1=name)\n"
   ]
  },
  {
   "cell_type": "code",
   "execution_count": 90,
   "id": "df2c86d4",
   "metadata": {},
   "outputs": [
    {
     "data": {
      "text/plain": [
       "'Hello 23, Your age is Chetan.'"
      ]
     },
     "execution_count": 90,
     "metadata": {},
     "output_type": "execute_result"
    }
   ],
   "source": [
    "greetings('Chetan',23)"
   ]
  },
  {
   "cell_type": "code",
   "execution_count": 91,
   "id": "3f281826",
   "metadata": {},
   "outputs": [
    {
     "data": {
      "text/plain": [
       "'Hello Chetan, Your age is 23.'"
      ]
     },
     "execution_count": 91,
     "metadata": {},
     "output_type": "execute_result"
    }
   ],
   "source": [
    "greetings1(\"Chetan\",23)"
   ]
  },
  {
   "cell_type": "markdown",
   "id": "3cb8ab3b",
   "metadata": {},
   "source": [
    "# List Iterators vs Iterables"
   ]
  },
  {
   "cell_type": "code",
   "execution_count": 92,
   "id": "140ac52a",
   "metadata": {},
   "outputs": [
    {
     "name": "stdout",
     "output_type": "stream",
     "text": [
      "1\n",
      "2\n",
      "3\n",
      "4\n",
      "5\n",
      "6\n",
      "7\n"
     ]
    }
   ],
   "source": [
    "# List is iterable\n",
    "lst=[1,2,3,4,5,6,7]\n",
    "\n",
    "for i in lst:\n",
    "    print(i)"
   ]
  },
  {
   "cell_type": "code",
   "execution_count": 94,
   "id": "206259bd",
   "metadata": {},
   "outputs": [],
   "source": [
    "lst1=iter(lst)"
   ]
  },
  {
   "cell_type": "code",
   "execution_count": 95,
   "id": "5692d87e",
   "metadata": {},
   "outputs": [
    {
     "data": {
      "text/plain": [
       "<list_iterator at 0x1c724723d30>"
      ]
     },
     "execution_count": 95,
     "metadata": {},
     "output_type": "execute_result"
    }
   ],
   "source": [
    "#Iterators all the values will be stored n the memory it will happen when the next() ib-built function is called it is done one by one\n",
    "lst1\n",
    "\n"
   ]
  },
  {
   "cell_type": "code",
   "execution_count": 96,
   "id": "09cc5be6",
   "metadata": {},
   "outputs": [
    {
     "data": {
      "text/plain": [
       "1"
      ]
     },
     "execution_count": 96,
     "metadata": {},
     "output_type": "execute_result"
    }
   ],
   "source": [
    "next(lst1)"
   ]
  },
  {
   "cell_type": "markdown",
   "id": "975cd4bc",
   "metadata": {},
   "source": [
    "Both iterators and iterables can be implemented and the values can be retreived\n",
    "We use iterators when there are a lot of elements in the list so for each elements will get initialsed in the list it will take memory\n",
    "So if we use iterators it would not require that much memory as unless we intitialize that element it will not get stored into the memory.\n",
    "\n",
    "So, if we want to convert a list(iterable) into an iterator we use the iter() function we can also use generators to \n",
    "\n",
    "When we use next() on the last element it gives us a StopIteration Exceptions "
   ]
  },
  {
   "cell_type": "code",
   "execution_count": null,
   "id": "7f8d106c",
   "metadata": {},
   "outputs": [],
   "source": []
  }
 ],
 "metadata": {
  "kernelspec": {
   "display_name": "Python 3",
   "language": "python",
   "name": "python3"
  },
  "language_info": {
   "codemirror_mode": {
    "name": "ipython",
    "version": 3
   },
   "file_extension": ".py",
   "mimetype": "text/x-python",
   "name": "python",
   "nbconvert_exporter": "python",
   "pygments_lexer": "ipython3",
   "version": "3.8.5"
  }
 },
 "nbformat": 4,
 "nbformat_minor": 5
}
