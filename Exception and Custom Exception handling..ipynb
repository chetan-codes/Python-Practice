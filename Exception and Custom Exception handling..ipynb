{
 "cells": [
  {
   "cell_type": "markdown",
   "id": "f95248c5",
   "metadata": {},
   "source": [
    "# Python Exception Handling"
   ]
  },
  {
   "cell_type": "code",
   "execution_count": 1,
   "id": "46d04979",
   "metadata": {},
   "outputs": [
    {
     "name": "stdout",
     "output_type": "stream",
     "text": [
      "name 'b' is not defined\n"
     ]
    }
   ],
   "source": [
    "try:\n",
    "    # Code block where exception may occur\n",
    "    a=b\n",
    "except Exception as ex:\n",
    "    print(ex)"
   ]
  },
  {
   "cell_type": "code",
   "execution_count": 3,
   "id": "07477c8c",
   "metadata": {},
   "outputs": [
    {
     "name": "stdout",
     "output_type": "stream",
     "text": [
      "Enter the first number:12\n",
      "Enter the second number:12\n",
      "24\n",
      "144\n",
      "1.0\n",
      "The execution is finished.\n"
     ]
    }
   ],
   "source": [
    "try:\n",
    "    # Code block where exception may occur\n",
    "    a=int(input(\"Enter the first number:\"))\n",
    "    b=int(input(\"Enter the second number:\"))\n",
    "    c=a+b\n",
    "    d=a*b\n",
    "    e=a/b\n",
    "\n",
    "except NameError:\n",
    "    print(\"The user has not defined the variables.\")\n",
    "except ZeroDivisionError:\n",
    "    print(\"Please provide a number greater than zero.\")\n",
    "except TypeError:\n",
    "    print(\"The user has entered different datatypes.\")\n",
    "except Exception as ex:\n",
    "    print(ex)\n",
    "else:\n",
    "    print(c)\n",
    "    print(d)\n",
    "    print(e)\n",
    "finally:\n",
    "    print(\"The execution is finished.\")\n",
    "#Finally can be used to close connections to the database etc."
   ]
  },
  {
   "cell_type": "markdown",
   "id": "818086e9",
   "metadata": {},
   "source": [
    "# Custom Exceptions"
   ]
  },
  {
   "cell_type": "code",
   "execution_count": 4,
   "id": "098dd4e9",
   "metadata": {},
   "outputs": [],
   "source": [
    "class Error(Exception):\n",
    "    pass\n",
    "class dobException(Error):\n",
    "    pass"
   ]
  },
  {
   "cell_type": "code",
   "execution_count": 7,
   "id": "d66cd85d",
   "metadata": {},
   "outputs": [
    {
     "name": "stdout",
     "output_type": "stream",
     "text": [
      "Enter your year of birth: 1234\n",
      "Your age is not within the age limit. You cannot apply for the exams.\n"
     ]
    }
   ],
   "source": [
    "year=int(input(\"Enter your year of birth: \"))\n",
    "age=2021-year\n",
    "try:\n",
    "    if age <= 30 & age >20:\n",
    "        print(\"The age is valid. You can apply for the exams.\")\n",
    "    else:\n",
    "        raise dobException\n",
    "except dobException:\n",
    "    print(\"Your age is not within the age limit. You cannot apply for the exams.\")"
   ]
  }
 ],
 "metadata": {
  "kernelspec": {
   "display_name": "Python 3",
   "language": "python",
   "name": "python3"
  },
  "language_info": {
   "codemirror_mode": {
    "name": "ipython",
    "version": 3
   },
   "file_extension": ".py",
   "mimetype": "text/x-python",
   "name": "python",
   "nbconvert_exporter": "python",
   "pygments_lexer": "ipython3",
   "version": "3.8.5"
  }
 },
 "nbformat": 4,
 "nbformat_minor": 5
}
