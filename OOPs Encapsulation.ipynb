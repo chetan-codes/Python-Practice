{
 "cells": [
  {
   "cell_type": "markdown",
   "id": "fea306f3",
   "metadata": {},
   "source": [
    "# Python OOPs- Public, Private, Protected"
   ]
  },
  {
   "cell_type": "markdown",
   "id": "330790eb",
   "metadata": {},
   "source": [
    "* For public variables of a class, they can be accessed or modified anywhere.\n",
    "* For protected variables of a parent class are only accessible/modifyable to it's subclass or the child class.\n",
    "* For private variables of a class are only accessible/modifyable in that respective class.\n",
    "\n",
    "* When a protected variable is present in the class it gives an indication to the developers that only the child class can modify the variable, similarly for public class can be modified anywhere, and private in the same class."
   ]
  },
  {
   "cell_type": "code",
   "execution_count": 28,
   "id": "1a781779",
   "metadata": {},
   "outputs": [],
   "source": [
    "#All the class variables are protected\n",
    "class Car():\n",
    "    def __init__(self,window,door,enginetype):\n",
    "        self._windows=window\n",
    "        self._doors=door\n",
    "        self._enginetype=enginetype"
   ]
  },
  {
   "cell_type": "code",
   "execution_count": 29,
   "id": "f4bda774",
   "metadata": {},
   "outputs": [
    {
     "data": {
      "text/plain": [
       "['__class__',\n",
       " '__delattr__',\n",
       " '__dict__',\n",
       " '__dir__',\n",
       " '__doc__',\n",
       " '__eq__',\n",
       " '__format__',\n",
       " '__ge__',\n",
       " '__getattribute__',\n",
       " '__gt__',\n",
       " '__hash__',\n",
       " '__init__',\n",
       " '__init_subclass__',\n",
       " '__le__',\n",
       " '__lt__',\n",
       " '__module__',\n",
       " '__ne__',\n",
       " '__new__',\n",
       " '__reduce__',\n",
       " '__reduce_ex__',\n",
       " '__repr__',\n",
       " '__setattr__',\n",
       " '__sizeof__',\n",
       " '__str__',\n",
       " '__subclasshook__',\n",
       " '__weakref__',\n",
       " '_doors',\n",
       " '_enginetype',\n",
       " '_windows']"
      ]
     },
     "execution_count": 29,
     "metadata": {},
     "output_type": "execute_result"
    }
   ],
   "source": [
    "audi= Car(6,4,\"Diesel\")\n",
    "dir(audi)"
   ]
  },
  {
   "cell_type": "code",
   "execution_count": 30,
   "id": "f6233e1c",
   "metadata": {},
   "outputs": [],
   "source": [
    "def Truck(Car):\n",
    "    def __init__(self,windows,doors,enginetype,horsepower):\n",
    "        super().__init__(windows,doors,enginetype)\n",
    "        self.horsepowwer=horsepower"
   ]
  },
  {
   "cell_type": "code",
   "execution_count": 31,
   "id": "b2d3bd9b",
   "metadata": {},
   "outputs": [
    {
     "ename": "TypeError",
     "evalue": "Truck() takes 1 positional argument but 4 were given",
     "output_type": "error",
     "traceback": [
      "\u001b[1;31m---------------------------------------------------------------------------\u001b[0m",
      "\u001b[1;31mTypeError\u001b[0m                                 Traceback (most recent call last)",
      "\u001b[1;32m<ipython-input-31-a98f073a93bb>\u001b[0m in \u001b[0;36m<module>\u001b[1;34m\u001b[0m\n\u001b[1;32m----> 1\u001b[1;33m \u001b[0mtruck1\u001b[0m\u001b[1;33m=\u001b[0m\u001b[0mTruck\u001b[0m\u001b[1;33m(\u001b[0m\u001b[1;36m4\u001b[0m\u001b[1;33m,\u001b[0m\u001b[1;36m4\u001b[0m\u001b[1;33m,\u001b[0m\u001b[1;34m\"Diesel\"\u001b[0m\u001b[1;33m,\u001b[0m\u001b[1;36m4000\u001b[0m\u001b[1;33m)\u001b[0m\u001b[1;33m\u001b[0m\u001b[1;33m\u001b[0m\u001b[0m\n\u001b[0m\u001b[0;32m      2\u001b[0m \u001b[0mdir\u001b[0m\u001b[1;33m(\u001b[0m\u001b[0mtruck1\u001b[0m\u001b[1;33m)\u001b[0m\u001b[1;33m\u001b[0m\u001b[1;33m\u001b[0m\u001b[0m\n",
      "\u001b[1;31mTypeError\u001b[0m: Truck() takes 1 positional argument but 4 were given"
     ]
    }
   ],
   "source": [
    "truck1=Truck(4,4,\"Diesel\",4000)\n",
    "dir(truck1)"
   ]
  },
  {
   "cell_type": "code",
   "execution_count": 32,
   "id": "553279c6",
   "metadata": {},
   "outputs": [
    {
     "ename": "AttributeError",
     "evalue": "'NoneType' object has no attribute '_doors'",
     "output_type": "error",
     "traceback": [
      "\u001b[1;31m---------------------------------------------------------------------------\u001b[0m",
      "\u001b[1;31mAttributeError\u001b[0m                            Traceback (most recent call last)",
      "\u001b[1;32m<ipython-input-32-17dafda96480>\u001b[0m in \u001b[0;36m<module>\u001b[1;34m\u001b[0m\n\u001b[1;32m----> 1\u001b[1;33m \u001b[0mtruck1\u001b[0m\u001b[1;33m.\u001b[0m\u001b[0m_doors\u001b[0m\u001b[1;33m=\u001b[0m\u001b[1;36m5\u001b[0m\u001b[1;33m\u001b[0m\u001b[1;33m\u001b[0m\u001b[0m\n\u001b[0m",
      "\u001b[1;31mAttributeError\u001b[0m: 'NoneType' object has no attribute '_doors'"
     ]
    }
   ],
   "source": [
    "truck1._doors=5"
   ]
  },
  {
   "cell_type": "code",
   "execution_count": 34,
   "id": "724ace57",
   "metadata": {},
   "outputs": [],
   "source": [
    "#All the class variables are private\n",
    "class Cars():\n",
    "    def __init__(self,window,door,enginetype):\n",
    "        self.__windows=window\n",
    "        self.__doors=door\n",
    "        self.__enginetype=enginetype"
   ]
  },
  {
   "cell_type": "code",
   "execution_count": 35,
   "id": "20ba64c3",
   "metadata": {},
   "outputs": [],
   "source": [
    "audis=Cars(4,4,\"Petrol\")"
   ]
  },
  {
   "cell_type": "code",
   "execution_count": 36,
   "id": "eda21aef",
   "metadata": {},
   "outputs": [
    {
     "data": {
      "text/plain": [
       "['_Cars__doors',\n",
       " '_Cars__enginetype',\n",
       " '_Cars__windows',\n",
       " '__class__',\n",
       " '__delattr__',\n",
       " '__dict__',\n",
       " '__dir__',\n",
       " '__doc__',\n",
       " '__eq__',\n",
       " '__format__',\n",
       " '__ge__',\n",
       " '__getattribute__',\n",
       " '__gt__',\n",
       " '__hash__',\n",
       " '__init__',\n",
       " '__init_subclass__',\n",
       " '__le__',\n",
       " '__lt__',\n",
       " '__module__',\n",
       " '__ne__',\n",
       " '__new__',\n",
       " '__reduce__',\n",
       " '__reduce_ex__',\n",
       " '__repr__',\n",
       " '__setattr__',\n",
       " '__sizeof__',\n",
       " '__str__',\n",
       " '__subclasshook__',\n",
       " '__weakref__']"
      ]
     },
     "execution_count": 36,
     "metadata": {},
     "output_type": "execute_result"
    }
   ],
   "source": [
    "dir(audis)"
   ]
  },
  {
   "cell_type": "markdown",
   "id": "a77ba7f9",
   "metadata": {},
   "source": [
    "When a class variable is made private it can be overwritten from outside the class but the purpose to making it private is to indicate that it should not be overwritten from outside the class and should only be initialized from inside the class "
   ]
  }
 ],
 "metadata": {
  "kernelspec": {
   "display_name": "Python 3",
   "language": "python",
   "name": "python3"
  },
  "language_info": {
   "codemirror_mode": {
    "name": "ipython",
    "version": 3
   },
   "file_extension": ".py",
   "mimetype": "text/x-python",
   "name": "python",
   "nbconvert_exporter": "python",
   "pygments_lexer": "ipython3",
   "version": "3.8.5"
  }
 },
 "nbformat": 4,
 "nbformat_minor": 5
}
